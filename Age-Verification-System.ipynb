{
 "cells": [
  {
   "cell_type": "code",
   "execution_count": 1,
   "metadata": {},
   "outputs": [
    {
     "ename": "SyntaxError",
     "evalue": "'break' outside loop (<ipython-input-1-cf743e5e91ae>, line 72)",
     "output_type": "error",
     "traceback": [
      "\u001b[1;36m  File \u001b[1;32m\"<ipython-input-1-cf743e5e91ae>\"\u001b[1;36m, line \u001b[1;32m72\u001b[0m\n\u001b[1;33m    age_net, gender_net = load_caffe_models()\u001b[0m\n\u001b[1;37m           ^\u001b[0m\n\u001b[1;31mSyntaxError\u001b[0m\u001b[1;31m:\u001b[0m 'break' outside loop\n"
     ]
    }
   ],
   "source": [
    "import cv2\n",
    "import numpy as np\n",
    "import pafy\n",
    "\n",
    "#url of the video to predict Age and gender\n",
    "url = 'https://www.youtube.com/watch?v=lL8NfJLVq1w'\n",
    "vPafy = pafy.new(url)\n",
    "play = vPafy.getbest(preftype=\"mp4\")\n",
    "\n",
    "cap = cv2.VideoCapture(play.url)\n",
    "\n",
    "cap.set(3, 480) #set width of the frame\n",
    "cap.set(4, 640) #set height of the frame\n",
    "\n",
    "MODEL_MEAN_VALUES = (78.4263377603, 87.7689143744, 114.895847746)\n",
    "\n",
    "age_list = ['(0, 2)', '(4, 6)', '(8, 12)', '(15, 20)', '(25, 32)', '(38, 43)', '(48, 53)', '(60, 100)']\n",
    "\n",
    "gender_list = ['Male', 'Female']\n",
    "\n",
    "def load_caffe_models():\n",
    "    \n",
    "    age_net = cv2.dnn.readNetFromCaffe('deploy_age.prototxt', 'age_net.caffemodel')\n",
    "    \n",
    "    gender_net = cv2.dnn.readNetFromCaffe('deploy_gender.prototxt', 'gender_net.caffemodel')\n",
    "    \n",
    "    return(age_net, gender_net)\n",
    "\n",
    "def video_detector(age_net, gender_net):\n",
    "  font = cv2.FONT_HERSHEY_SIMPLEX\n",
    "\n",
    "while True:\n",
    "    \n",
    "  ret, image = cap.read()\n",
    "       \n",
    "  face_cascade = cv2.CascadeClassifier('haarcascade_frontalface_default.xml')\n",
    " \n",
    "  gray = cv2.cvtColor(image, cv2.COLOR_BGR2GRAY)\n",
    "  faces = face_cascade.detectMultiScale(gray, 1.1, 5)\n",
    "    \n",
    "if(len(faces)>0):\n",
    "   print(\"Found {} faces\".format(str(len(faces))))\n",
    "\n",
    "for (x, y, w, h )in faces:\n",
    "   cv2.rectangle(image, (x, y), (x+w, y+h), (255, 255, 0), 2)\n",
    "\n",
    "#Get Face \n",
    "   face_img = image[y:y+h, x:x+w].copy()\n",
    "   blob = cv2.dnn.blobFromImage(face_img, 1, (227, 227), MODEL_MEAN_VALUES, swapRB=False)\n",
    "\n",
    "#Predict Gender\n",
    "   gender_net.setInput(blob)\n",
    "   gender_preds = gender_net.forward()\n",
    "   gender = gender_list[gender_preds[0].argmax()]\n",
    "   print(\"Gender : \" + gender)\n",
    "\n",
    "#Predict Age\n",
    "   age_net.setInput(blob)\n",
    "   age_preds = age_net.forward()\n",
    "   age = age_list[age_preds[0].argmax()]\n",
    "   print(\"Age Range: \" + age)\n",
    "\n",
    "overlay_text = \"%s %s\" % (gender, age)\n",
    "cv2.putText(image, overlay_text, (x, y), font, 1, (255, 255, 255), 2, cv2.LINE_AA)\n",
    "    \n",
    "cv2.imshow('frame', image)\n",
    "#0xFF is a hexadecimal constant which is 11111111 in binary.\n",
    "if cv2.waitKey(1) & 0xFF == ord('q'): \n",
    "    break\n",
    "    \n",
    "if __name__ == \"__main__\":\n",
    "    age_net, gender_net = load_caffe_models()\n",
    "    video_detector(age_net, gender_net)"
   ]
  },
  {
   "cell_type": "code",
   "execution_count": 18,
   "metadata": {
    "scrolled": true
   },
   "outputs": [
    {
     "name": "stdout",
     "output_type": "stream",
     "text": [
      "Hello World\n"
     ]
    }
   ],
   "source": []
  },
  {
   "cell_type": "code",
   "execution_count": null,
   "metadata": {},
   "outputs": [],
   "source": []
  }
 ],
 "metadata": {
  "kernelspec": {
   "display_name": "Python 3",
   "language": "python",
   "name": "python3"
  },
  "language_info": {
   "codemirror_mode": {
    "name": "ipython",
    "version": 3
   },
   "file_extension": ".py",
   "mimetype": "text/x-python",
   "name": "python",
   "nbconvert_exporter": "python",
   "pygments_lexer": "ipython3",
   "version": "3.7.4"
  }
 },
 "nbformat": 4,
 "nbformat_minor": 2
}
